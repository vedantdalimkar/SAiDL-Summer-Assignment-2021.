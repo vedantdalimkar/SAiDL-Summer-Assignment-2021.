{
 "cells": [
  {
   "cell_type": "code",
   "execution_count": 1,
   "metadata": {
    "execution": {
     "iopub.execute_input": "2021-08-15T06:35:32.588005Z",
     "iopub.status.busy": "2021-08-15T06:35:32.587577Z",
     "iopub.status.idle": "2021-08-15T06:35:38.516096Z",
     "shell.execute_reply": "2021-08-15T06:35:38.515012Z",
     "shell.execute_reply.started": "2021-08-15T06:35:32.587915Z"
    }
   },
   "outputs": [],
   "source": [
    "import tensorflow as tf\n",
    "from tensorflow import keras\n",
    "import pandas as pd\n",
    "import numpy as np"
   ]
  },
  {
   "cell_type": "code",
   "execution_count": 2,
   "metadata": {
    "execution": {
     "iopub.execute_input": "2021-08-15T06:35:38.518032Z",
     "iopub.status.busy": "2021-08-15T06:35:38.517675Z",
     "iopub.status.idle": "2021-08-15T06:35:50.362607Z",
     "shell.execute_reply": "2021-08-15T06:35:50.361497Z",
     "shell.execute_reply.started": "2021-08-15T06:35:38.517997Z"
    }
   },
   "outputs": [],
   "source": [
    "#loading the dataset\n",
    "df_train = pd.read_csv('../input/snli-dset/snli_1.0_train.txt', sep = '\\t')\n",
    "df_val = pd.read_csv('../input/snli-dset/snli_1.0_dev.txt', sep = '\\t')\n",
    "df_test = pd.read_csv('../input/snli-dset/snli_1.0_test.txt', sep = '\\t')"
   ]
  },
  {
   "cell_type": "code",
   "execution_count": 3,
   "metadata": {
    "execution": {
     "iopub.execute_input": "2021-08-15T06:35:50.364896Z",
     "iopub.status.busy": "2021-08-15T06:35:50.364542Z",
     "iopub.status.idle": "2021-08-15T06:35:50.439295Z",
     "shell.execute_reply": "2021-08-15T06:35:50.438215Z",
     "shell.execute_reply.started": "2021-08-15T06:35:50.364865Z"
    }
   },
   "outputs": [],
   "source": [
    "df_train['sentence1'] = df_train['sentence1'].astype(str)\n",
    "df_train['sentence2'] = df_train['sentence2'].astype(str)\n",
    "\n",
    "df_val['sentence1'] = df_val['sentence1'].astype(str)\n",
    "df_val['sentence2'] = df_val['sentence2'].astype(str)\n",
    "\n",
    "df_test['sentence1'] = df_test['sentence1'].astype(str)\n",
    "df_test['sentence2'] = df_test['sentence2'].astype(str)\n"
   ]
  },
  {
   "cell_type": "code",
   "execution_count": 4,
   "metadata": {
    "execution": {
     "iopub.execute_input": "2021-08-15T06:35:50.441068Z",
     "iopub.status.busy": "2021-08-15T06:35:50.440741Z",
     "iopub.status.idle": "2021-08-15T06:35:50.712055Z",
     "shell.execute_reply": "2021-08-15T06:35:50.711113Z",
     "shell.execute_reply.started": "2021-08-15T06:35:50.441038Z"
    }
   },
   "outputs": [],
   "source": [
    "#assigning labels \n",
    "df_train['label'] = np.where(\n",
    "    df_train['gold_label'] == 'contradiction', 0, np.where(\n",
    "    df_train['gold_label'] == 'neutral', 1, np.where(\n",
    "    df_train['gold_label'] == 'entailment',2,np.NaN))) \n",
    "\n",
    "df_val['label'] = np.where(\n",
    "    df_val['gold_label'] == 'contradiction', 0, np.where(\n",
    "    df_val['gold_label'] == 'neutral', 1, np.where(\n",
    "    df_val['gold_label'] == 'entailment',2,np.NaN))) \n",
    "\n",
    "df_test['label'] = np.where(\n",
    "    df_test['gold_label'] == 'contradiction', 0, np.where(\n",
    "    df_test['gold_label'] == 'neutral', 1, np.where(\n",
    "    df_test['gold_label'] == 'entailment',2,np.NaN))) \n",
    "\n"
   ]
  },
  {
   "cell_type": "code",
   "execution_count": 5,
   "metadata": {
    "execution": {
     "iopub.execute_input": "2021-08-15T06:35:50.713596Z",
     "iopub.status.busy": "2021-08-15T06:35:50.713317Z",
     "iopub.status.idle": "2021-08-15T06:35:50.914218Z",
     "shell.execute_reply": "2021-08-15T06:35:50.913410Z",
     "shell.execute_reply.started": "2021-08-15T06:35:50.713570Z"
    }
   },
   "outputs": [],
   "source": [
    "\n",
    "df_train1 = df_train[['label','sentence1','sentence2']]\n",
    "df_train1 = df_train1.dropna()\n",
    "\n",
    "df_val1 = df_val[['label','sentence1','sentence2']]\n",
    "df_val1 = df_val1.dropna()\n",
    "\n",
    "df_test1 = df_test[['label','sentence1','sentence2']]\n",
    "df_test1 = df_test1.dropna()\n",
    "\n",
    "\n"
   ]
  },
  {
   "cell_type": "code",
   "execution_count": 6,
   "metadata": {
    "execution": {
     "iopub.execute_input": "2021-08-15T06:35:50.916410Z",
     "iopub.status.busy": "2021-08-15T06:35:50.915727Z",
     "iopub.status.idle": "2021-08-15T06:35:50.926303Z",
     "shell.execute_reply": "2021-08-15T06:35:50.925278Z",
     "shell.execute_reply.started": "2021-08-15T06:35:50.916365Z"
    }
   },
   "outputs": [],
   "source": [
    "x_train_1 = df_train1['sentence1'].to_numpy()\n",
    "x_train_2 = df_train1['sentence2'].to_numpy()\n",
    "y_train = df_train1['label'].to_numpy().astype(int)\n",
    "\n",
    "x_val_1 = df_val1['sentence1'].to_numpy()\n",
    "x_val_2 = df_val1['sentence2'].to_numpy()\n",
    "y_val = df_val1['label'].to_numpy().astype(int)\n",
    "\n",
    "x_test_1 = df_test1['sentence1'].to_numpy()\n",
    "x_test_2 = df_test1['sentence2'].to_numpy()\n",
    "y_test = df_test1['label'].to_numpy().astype(int)\n"
   ]
  },
  {
   "cell_type": "code",
   "execution_count": 7,
   "metadata": {
    "execution": {
     "iopub.execute_input": "2021-08-15T06:35:50.927998Z",
     "iopub.status.busy": "2021-08-15T06:35:50.927632Z",
     "iopub.status.idle": "2021-08-15T06:35:50.936078Z",
     "shell.execute_reply": "2021-08-15T06:35:50.935142Z",
     "shell.execute_reply.started": "2021-08-15T06:35:50.927968Z"
    }
   },
   "outputs": [],
   "source": [
    "x_train_1 = x_train_1.reshape(-1,1)\n",
    "x_train_2 = x_train_2.reshape(-1,1)\n",
    "\n",
    "x_val_1 = x_val_1.reshape(-1,1)\n",
    "x_val_2 = x_val_2.reshape(-1,1)\n",
    "\n",
    "x_test_1 = x_test_1.reshape(-1,1)\n",
    "x_test_2 = x_test_2.reshape(-1,1)\n"
   ]
  },
  {
   "cell_type": "code",
   "execution_count": 8,
   "metadata": {
    "execution": {
     "iopub.execute_input": "2021-08-15T06:35:50.938625Z",
     "iopub.status.busy": "2021-08-15T06:35:50.938340Z",
     "iopub.status.idle": "2021-08-15T06:35:50.955993Z",
     "shell.execute_reply": "2021-08-15T06:35:50.954875Z",
     "shell.execute_reply.started": "2021-08-15T06:35:50.938599Z"
    }
   },
   "outputs": [
    {
     "data": {
      "text/plain": [
       "(549367, 1)"
      ]
     },
     "execution_count": 8,
     "metadata": {},
     "output_type": "execute_result"
    }
   ],
   "source": [
    "x_train_1.shape"
   ]
  },
  {
   "cell_type": "code",
   "execution_count": 9,
   "metadata": {
    "execution": {
     "iopub.execute_input": "2021-08-15T06:35:50.958288Z",
     "iopub.status.busy": "2021-08-15T06:35:50.957996Z",
     "iopub.status.idle": "2021-08-15T06:35:50.977810Z",
     "shell.execute_reply": "2021-08-15T06:35:50.976610Z",
     "shell.execute_reply.started": "2021-08-15T06:35:50.958260Z"
    }
   },
   "outputs": [],
   "source": [
    "x_train_concat = np.vstack((x_train_1,x_train_2,x_val_1,x_val_2))"
   ]
  },
  {
   "cell_type": "code",
   "execution_count": 10,
   "metadata": {
    "execution": {
     "iopub.execute_input": "2021-08-15T06:35:50.981186Z",
     "iopub.status.busy": "2021-08-15T06:35:50.980712Z",
     "iopub.status.idle": "2021-08-15T06:35:50.987264Z",
     "shell.execute_reply": "2021-08-15T06:35:50.986105Z",
     "shell.execute_reply.started": "2021-08-15T06:35:50.981130Z"
    }
   },
   "outputs": [
    {
     "data": {
      "text/plain": [
       "(1118418, 1)"
      ]
     },
     "execution_count": 10,
     "metadata": {},
     "output_type": "execute_result"
    }
   ],
   "source": [
    "x_train_concat.shape"
   ]
  },
  {
   "cell_type": "code",
   "execution_count": 11,
   "metadata": {
    "execution": {
     "iopub.execute_input": "2021-08-15T06:35:50.989565Z",
     "iopub.status.busy": "2021-08-15T06:35:50.989162Z",
     "iopub.status.idle": "2021-08-15T06:36:12.536480Z",
     "shell.execute_reply": "2021-08-15T06:36:12.535243Z",
     "shell.execute_reply.started": "2021-08-15T06:35:50.989522Z"
    }
   },
   "outputs": [],
   "source": [
    "#Transforming a batch of strings (one sample = one string) into a list of token indices using TextVectorization layer.\n",
    "#Applying text vectoriztion to the entire text dataset, then feeding it to a model that expects integer sequences as inputs.\n",
    "from tensorflow.keras.layers.experimental.preprocessing import TextVectorization\n",
    "\n",
    "#TextVectorization layer will only consider the top 50,000 words, and will truncate or pad sequences to be actually 15 tokens long.\n",
    "\n",
    "vectorizer = TextVectorization(max_tokens=50000, output_sequence_length=15)\n",
    "\n",
    "#calling the vectorization layer's adapt() method on the dataset. When this layer is adapted, it analyzes the dataset, determine the frequency of individual string values, and creates a 'vocabulary' from them.\n",
    "\n",
    "vectorizer.adapt(x_train_concat)\n",
    "\n",
    "x_train_1 = x_train_1.reshape(-1)\n",
    "x_train_2 = x_train_2.reshape(-1)\n",
    "\n",
    "x_val_1 = x_val_1.reshape(-1)\n",
    "x_val_2 = x_val_2.reshape(-1)\n",
    "\n",
    "x_test_1 = x_test_1.reshape(-1)\n",
    "x_test_2 = x_test_2.reshape(-1)\n",
    "\n",
    "#vectorizing the dataset\n",
    "\n",
    "x_train__1 = vectorizer(np.array([[s] for s in x_train_1 ])).numpy()\n",
    "x_train__2 = vectorizer(np.array([[s] for s in x_train_2 ])).numpy()\n",
    "\n",
    "\n",
    "x_val__1 = vectorizer(np.array([[s] for s in x_val_1])).numpy()\n",
    "x_val__2 = vectorizer(np.array([[s] for s in x_val_2])).numpy()\n",
    "\n",
    "x_test__1 = vectorizer(np.array([[s] for s in x_test_1])).numpy()\n",
    "x_test__2 = vectorizer(np.array([[s] for s in x_test_2])).numpy()\n",
    "\n",
    "\n"
   ]
  },
  {
   "cell_type": "code",
   "execution_count": 12,
   "metadata": {
    "execution": {
     "iopub.execute_input": "2021-08-15T06:36:12.538077Z",
     "iopub.status.busy": "2021-08-15T06:36:12.537747Z",
     "iopub.status.idle": "2021-08-15T06:36:12.654930Z",
     "shell.execute_reply": "2021-08-15T06:36:12.653885Z",
     "shell.execute_reply.started": "2021-08-15T06:36:12.538045Z"
    }
   },
   "outputs": [],
   "source": [
    "#creating a dict mapping words to their indices:\n",
    "voc = vectorizer.get_vocabulary()\n",
    "word_index = dict(zip(voc, range(len(voc))))"
   ]
  },
  {
   "cell_type": "code",
   "execution_count": 13,
   "metadata": {
    "execution": {
     "iopub.execute_input": "2021-08-15T06:36:12.656432Z",
     "iopub.status.busy": "2021-08-15T06:36:12.656159Z",
     "iopub.status.idle": "2021-08-15T06:36:27.387632Z",
     "shell.execute_reply": "2021-08-15T06:36:27.386597Z",
     "shell.execute_reply.started": "2021-08-15T06:36:12.656407Z"
    }
   },
   "outputs": [
    {
     "name": "stdout",
     "output_type": "stream",
     "text": [
      "Found 400000 word vectors.\n"
     ]
    }
   ],
   "source": [
    "#loading pre-trained word embeddings\n",
    "path_to_glove_file = '../input/snli-dset/glove.6B.100d.txt'\n",
    "\n",
    "\n",
    "#creating a dict mapping words (strings) to their NumPy vector representation:\n",
    "embeddings_index = {}\n",
    "with open(path_to_glove_file,encoding=\"utf-8\") as f:\n",
    "    for line in f:\n",
    "        word, coefs = line.split(maxsplit=1)\n",
    "        coefs = np.fromstring(coefs, \"f\", sep=\" \")\n",
    "        embeddings_index[word] = coefs\n",
    "\n",
    "print(\"Found %s word vectors.\" % len(embeddings_index))"
   ]
  },
  {
   "cell_type": "code",
   "execution_count": 14,
   "metadata": {
    "execution": {
     "iopub.execute_input": "2021-08-15T06:36:27.389190Z",
     "iopub.status.busy": "2021-08-15T06:36:27.388898Z",
     "iopub.status.idle": "2021-08-15T06:36:27.469002Z",
     "shell.execute_reply": "2021-08-15T06:36:27.467828Z",
     "shell.execute_reply.started": "2021-08-15T06:36:27.389163Z"
    }
   },
   "outputs": [
    {
     "name": "stdout",
     "output_type": "stream",
     "text": [
      "Converted 27661 words (8583 misses)\n"
     ]
    }
   ],
   "source": [
    "#Preparing a corresponding embedding matrix that we can use in a Keras Embedding layer.\n",
    "#The embedding matrix is a NumPy matrix where entry at index i is the pre-trained vector for the word of index i in our vectorizer's vocabulary.\n",
    "num_tokens = len(voc) + 2\n",
    "embedding_dim = 100\n",
    "hits = 0\n",
    "misses = 0\n",
    "\n",
    "embedding_matrix = np.zeros((num_tokens, embedding_dim))\n",
    "for word, i in word_index.items():\n",
    "    embedding_vector = embeddings_index.get(word)\n",
    "    if embedding_vector is not None:\n",
    "        # Words not found in embedding index will be all-zeros.\n",
    "        # This includes the representation for \"padding\" and \"OOV\"\n",
    "        embedding_matrix[i] = embedding_vector\n",
    "        hits += 1\n",
    "    else:\n",
    "        misses += 1\n",
    "print(\"Converted %d words (%d misses)\" % (hits, misses))"
   ]
  },
  {
   "cell_type": "code",
   "execution_count": 15,
   "metadata": {
    "execution": {
     "iopub.execute_input": "2021-08-15T06:36:27.471012Z",
     "iopub.status.busy": "2021-08-15T06:36:27.470579Z",
     "iopub.status.idle": "2021-08-15T06:36:27.478755Z",
     "shell.execute_reply": "2021-08-15T06:36:27.477689Z",
     "shell.execute_reply.started": "2021-08-15T06:36:27.470967Z"
    }
   },
   "outputs": [],
   "source": [
    "#Loading the pre-trained word embeddings matrix into an Embedding layer.\n",
    "\n",
    "from tensorflow.keras.layers import Embedding\n",
    "\n",
    "\n",
    "#set trainable=False so as to keep the embeddings fixed during training \n",
    "embedding_layer = Embedding(\n",
    "    num_tokens,\n",
    "    embedding_dim,\n",
    "    embeddings_initializer=keras.initializers.Constant(embedding_matrix),\n",
    "    trainable=False,\n",
    ")"
   ]
  },
  {
   "cell_type": "code",
   "execution_count": 16,
   "metadata": {
    "execution": {
     "iopub.execute_input": "2021-08-15T06:36:27.480695Z",
     "iopub.status.busy": "2021-08-15T06:36:27.480300Z",
     "iopub.status.idle": "2021-08-15T06:36:27.493080Z",
     "shell.execute_reply": "2021-08-15T06:36:27.491753Z",
     "shell.execute_reply.started": "2021-08-15T06:36:27.480653Z"
    }
   },
   "outputs": [
    {
     "data": {
      "text/plain": [
       "((549367,), (549367,))"
      ]
     },
     "execution_count": 16,
     "metadata": {},
     "output_type": "execute_result"
    }
   ],
   "source": [
    "x_train_1.shape, x_train_2.shape"
   ]
  },
  {
   "cell_type": "code",
   "execution_count": 17,
   "metadata": {
    "execution": {
     "iopub.execute_input": "2021-08-15T06:36:27.494925Z",
     "iopub.status.busy": "2021-08-15T06:36:27.494444Z",
     "iopub.status.idle": "2021-08-15T06:36:27.559447Z",
     "shell.execute_reply": "2021-08-15T06:36:27.558473Z",
     "shell.execute_reply.started": "2021-08-15T06:36:27.494799Z"
    }
   },
   "outputs": [],
   "source": [
    "from keras import backend as K"
   ]
  },
  {
   "cell_type": "code",
   "execution_count": 1,
   "metadata": {
    "execution": {
     "iopub.execute_input": "2021-08-15T06:36:27.561177Z",
     "iopub.status.busy": "2021-08-15T06:36:27.560876Z",
     "iopub.status.idle": "2021-08-15T06:36:27.566296Z",
     "shell.execute_reply": "2021-08-15T06:36:27.565341Z",
     "shell.execute_reply.started": "2021-08-15T06:36:27.561148Z"
    }
   },
   "outputs": [],
   "source": [
    "#using Keras callbacks function to save the model with the best validation set accuracy\n",
    "from keras.callbacks import ModelCheckpoint\n",
    "filepath=\"NLI_model.{epoch:03d}-{val_accuracy:.3f}.h5\"\n",
    "checkpoint = ModelCheckpoint(filepath, monitor = 'val_accuracy', save_best_only = True, mode = 'max')"
   ]
  },
  {
   "cell_type": "code",
   "execution_count": 19,
   "metadata": {
    "execution": {
     "iopub.execute_input": "2021-08-15T06:36:27.568360Z",
     "iopub.status.busy": "2021-08-15T06:36:27.567962Z",
     "iopub.status.idle": "2021-08-15T06:36:35.329210Z",
     "shell.execute_reply": "2021-08-15T06:36:35.328164Z",
     "shell.execute_reply.started": "2021-08-15T06:36:27.568319Z"
    }
   },
   "outputs": [],
   "source": [
    "#defining the model architecture\n",
    "\n",
    "# detect and init the TPU\n",
    "tpu = tf.distribute.cluster_resolver.TPUClusterResolver.connect()\n",
    "\n",
    "# instantiate a distribution strategy\n",
    "tpu_strategy = tf.distribute.experimental.TPUStrategy(tpu)\n",
    "\n",
    "# instantiating the model in the strategy scope creates the model on the TPU\n",
    "with tpu_strategy.scope():\n",
    "    input1 = tf.keras.layers.Input(shape=(None,), dtype=\"int64\")\n",
    "    input2 = tf.keras.layers.Input(shape=(None,), dtype=\"int64\")\n",
    "    \n",
    "    embedded_sequences1 = embedding_layer(input1)\n",
    "    embedded_sequences2 = embedding_layer(input2)\n",
    "    \n",
    "    x1 = tf.keras.layers.Dense(150,activation='relu')(embedded_sequences1)\n",
    "    x1 = tf.keras.layers.Dropout(0.3)(x1)\n",
    "    x2 = tf.keras.layers.Dense(150,activation='relu')(embedded_sequences2)\n",
    "    x2 = tf.keras.layers.Dropout(0.3)(x2)\n",
    "\n",
    " \n",
    "    \n",
    "    x1 = tf.keras.layers.Bidirectional(tf.keras.layers.LSTM(150,recurrent_dropout = 0.2))(x1)\n",
    "    x2 = tf.keras.layers.Bidirectional(tf.keras.layers.LSTM(150,recurrent_dropout = 0.2))(x2)   \n",
    "    \n",
    " \n",
    "    merge_layer = tf.keras.layers.concatenate([x1,x2])\n",
    "   \n",
    "    \n",
    "    x = tf.keras.layers.Dense(600,activation='relu')(merge_layer)\n",
    "    x = tf.keras.layers.Dropout(0.3)(x)\n",
    "    x = tf.keras.layers.Dense(600,activation='relu')(x)\n",
    "    x = tf.keras.layers.Dropout(0.3)(x)\n",
    "    x = tf.keras.layers.Dense(600,activation='relu')(x)\n",
    "    x = tf.keras.layers.Dropout(0.3)(x)\n",
    "\n",
    "    outputs = tf.keras.layers.Dense(3,activation = 'softmax')(x)\n",
    "    model = tf.keras.Model(inputs = [input1,input2], outputs = outputs)\n",
    "    model.compile(optimizer='rmsprop',\n",
    "              loss='sparse_categorical_crossentropy',\n",
    "              metrics=['accuracy'],steps_per_execution=32)"
   ]
  },
  {
   "cell_type": "code",
   "execution_count": 20,
   "metadata": {
    "execution": {
     "iopub.execute_input": "2021-08-15T06:36:35.330723Z",
     "iopub.status.busy": "2021-08-15T06:36:35.330426Z",
     "iopub.status.idle": "2021-08-15T06:41:09.321049Z",
     "shell.execute_reply": "2021-08-15T06:41:09.320062Z",
     "shell.execute_reply.started": "2021-08-15T06:36:35.330694Z"
    }
   },
   "outputs": [
    {
     "name": "stdout",
     "output_type": "stream",
     "text": [
      "Epoch 1/30\n",
      "537/537 [==============================] - 36s 67ms/step - loss: 1.0002 - accuracy: 0.4969 - val_loss: 0.8731 - val_accuracy: 0.6045\n",
      "Epoch 2/30\n",
      "537/537 [==============================] - 5s 9ms/step - loss: 0.8213 - accuracy: 0.6298 - val_loss: 0.7269 - val_accuracy: 0.6872\n",
      "Epoch 3/30\n",
      "537/537 [==============================] - 5s 10ms/step - loss: 0.7668 - accuracy: 0.6635 - val_loss: 0.7317 - val_accuracy: 0.6949\n",
      "Epoch 4/30\n",
      "537/537 [==============================] - 5s 10ms/step - loss: 0.7212 - accuracy: 0.6903 - val_loss: 0.6579 - val_accuracy: 0.7271\n",
      "Epoch 5/30\n",
      "537/537 [==============================] - 5s 10ms/step - loss: 0.6883 - accuracy: 0.7074 - val_loss: 0.6279 - val_accuracy: 0.7391\n",
      "Epoch 6/30\n",
      "537/537 [==============================] - 5s 10ms/step - loss: 0.6652 - accuracy: 0.7193 - val_loss: 0.6115 - val_accuracy: 0.7487\n",
      "Epoch 7/30\n",
      "537/537 [==============================] - 5s 9ms/step - loss: 0.6475 - accuracy: 0.7287 - val_loss: 0.5932 - val_accuracy: 0.7523\n",
      "Epoch 8/30\n",
      "537/537 [==============================] - 5s 10ms/step - loss: 0.6338 - accuracy: 0.7354 - val_loss: 0.5895 - val_accuracy: 0.7552\n",
      "Epoch 9/30\n",
      "537/537 [==============================] - 5s 9ms/step - loss: 0.6206 - accuracy: 0.7414 - val_loss: 0.5872 - val_accuracy: 0.7588\n",
      "Epoch 10/30\n",
      "537/537 [==============================] - 5s 10ms/step - loss: 0.6065 - accuracy: 0.7485 - val_loss: 0.5807 - val_accuracy: 0.7670\n",
      "Epoch 11/30\n",
      "537/537 [==============================] - 5s 9ms/step - loss: 0.5993 - accuracy: 0.7528 - val_loss: 0.5811 - val_accuracy: 0.7650\n",
      "Epoch 12/30\n",
      "537/537 [==============================] - 5s 10ms/step - loss: 0.5884 - accuracy: 0.7579 - val_loss: 0.5604 - val_accuracy: 0.7754\n",
      "Epoch 13/30\n",
      "537/537 [==============================] - 5s 10ms/step - loss: 0.5793 - accuracy: 0.7624 - val_loss: 0.5565 - val_accuracy: 0.7784\n",
      "Epoch 14/30\n",
      "537/537 [==============================] - 5s 10ms/step - loss: 0.5718 - accuracy: 0.7663 - val_loss: 0.5480 - val_accuracy: 0.7790\n",
      "Epoch 15/30\n",
      "537/537 [==============================] - 5s 9ms/step - loss: 0.5636 - accuracy: 0.7704 - val_loss: 0.5437 - val_accuracy: 0.7827\n",
      "Epoch 16/30\n",
      "537/537 [==============================] - 5s 10ms/step - loss: 0.5564 - accuracy: 0.7728 - val_loss: 0.5506 - val_accuracy: 0.7792\n",
      "Epoch 17/30\n",
      "537/537 [==============================] - 5s 10ms/step - loss: 0.5492 - accuracy: 0.7763 - val_loss: 0.5396 - val_accuracy: 0.7843\n",
      "Epoch 18/30\n",
      "537/537 [==============================] - 5s 10ms/step - loss: 0.5425 - accuracy: 0.7793 - val_loss: 0.5352 - val_accuracy: 0.7864\n",
      "Epoch 19/30\n",
      "537/537 [==============================] - 5s 10ms/step - loss: 0.5369 - accuracy: 0.7819 - val_loss: 0.5291 - val_accuracy: 0.7901\n",
      "Epoch 20/30\n",
      "537/537 [==============================] - 5s 10ms/step - loss: 0.5318 - accuracy: 0.7850 - val_loss: 0.5381 - val_accuracy: 0.7867\n",
      "Epoch 21/30\n",
      "537/537 [==============================] - 5s 9ms/step - loss: 0.5241 - accuracy: 0.7883 - val_loss: 0.5367 - val_accuracy: 0.7855\n",
      "Epoch 22/30\n",
      "537/537 [==============================] - 5s 10ms/step - loss: 0.5215 - accuracy: 0.7891 - val_loss: 0.5314 - val_accuracy: 0.7922\n",
      "Epoch 23/30\n",
      "537/537 [==============================] - 5s 10ms/step - loss: 0.5170 - accuracy: 0.7910 - val_loss: 0.5272 - val_accuracy: 0.7894\n",
      "Epoch 24/30\n",
      "537/537 [==============================] - 5s 9ms/step - loss: 0.5121 - accuracy: 0.7931 - val_loss: 0.5291 - val_accuracy: 0.7919\n",
      "Epoch 25/30\n",
      "537/537 [==============================] - 5s 10ms/step - loss: 0.5078 - accuracy: 0.7953 - val_loss: 0.5305 - val_accuracy: 0.7924\n",
      "Epoch 26/30\n",
      "537/537 [==============================] - 5s 10ms/step - loss: 0.5036 - accuracy: 0.7979 - val_loss: 0.5263 - val_accuracy: 0.7892\n",
      "Epoch 27/30\n",
      "537/537 [==============================] - 5s 10ms/step - loss: 0.5010 - accuracy: 0.7992 - val_loss: 0.5368 - val_accuracy: 0.7902\n",
      "Epoch 28/30\n",
      "537/537 [==============================] - 5s 10ms/step - loss: 0.4968 - accuracy: 0.8004 - val_loss: 0.5286 - val_accuracy: 0.7934\n",
      "Epoch 29/30\n",
      "537/537 [==============================] - 5s 10ms/step - loss: 0.4921 - accuracy: 0.8027 - val_loss: 0.5449 - val_accuracy: 0.7898\n",
      "Epoch 30/30\n",
      "537/537 [==============================] - 5s 10ms/step - loss: 0.4887 - accuracy: 0.8039 - val_loss: 0.5319 - val_accuracy: 0.7922\n"
     ]
    }
   ],
   "source": [
    "history = model.fit([x_train__1,x_train__2], y_train, batch_size=1024, epochs=30, validation_data=([x_val__1,x_val__2], y_val), callbacks = [checkpoint])"
   ]
  },
  {
   "cell_type": "code",
   "execution_count": 21,
   "metadata": {
    "execution": {
     "iopub.execute_input": "2021-08-15T06:41:09.322641Z",
     "iopub.status.busy": "2021-08-15T06:41:09.322356Z",
     "iopub.status.idle": "2021-08-15T06:41:09.518622Z",
     "shell.execute_reply": "2021-08-15T06:41:09.517703Z",
     "shell.execute_reply.started": "2021-08-15T06:41:09.322614Z"
    }
   },
   "outputs": [
    {
     "data": {
      "image/png": "[encoded data removed]",
      "text/plain": [
       "<Figure size 432x288 with 1 Axes>"
      ]
     },
     "metadata": {
      "needs_background": "light"
     },
     "output_type": "display_data"
    }
   ],
   "source": [
    "import matplotlib.pyplot as plt\n",
    "plt.plot(history.history['loss'])\n",
    "plt.plot(history.history['val_loss'])\n",
    "plt.title('model loss')\n",
    "plt.ylabel('loss')\n",
    "plt.xlabel('epoch')\n",
    "plt.legend(['train', 'test'], loc='upper left')\n",
    "plt.show()"
   ]
  },
  {
   "cell_type": "code",
   "execution_count": 22,
   "metadata": {
    "execution": {
     "iopub.execute_input": "2021-08-15T06:41:09.520189Z",
     "iopub.status.busy": "2021-08-15T06:41:09.519904Z",
     "iopub.status.idle": "2021-08-15T06:41:13.235044Z",
     "shell.execute_reply": "2021-08-15T06:41:13.234093Z",
     "shell.execute_reply.started": "2021-08-15T06:41:09.520161Z"
    }
   },
   "outputs": [
    {
     "name": "stdout",
     "output_type": "stream",
     "text": [
      "307/307 [==============================] - 4s 12ms/step - loss: 0.5376 - accuracy: 0.7890\n"
     ]
    },
    {
     "data": {
      "text/plain": [
       "[0.5375752449035645, 0.7889862060546875]"
      ]
     },
     "execution_count": 22,
     "metadata": {},
     "output_type": "execute_result"
    }
   ],
   "source": [
    "model.evaluate([x_test__1,x_test__2],y_test)"
   ]
  },
  {
   "cell_type": "code",
   "execution_count": null,
   "metadata": {},
   "outputs": [],
   "source": []
  }
 ],
 "metadata": {
  "kernelspec": {
   "display_name": "Python 3",
   "language": "python",
   "name": "python3"
  },
  "language_info": {
   "codemirror_mode": {
    "name": "ipython",
    "version": 3
   },
   "file_extension": ".py",
   "mimetype": "text/x-python",
   "name": "python",
   "nbconvert_exporter": "python",
   "pygments_lexer": "ipython3",
   "version": "3.8.5"
  }
 },
 "nbformat": 4,
 "nbformat_minor": 4
}
