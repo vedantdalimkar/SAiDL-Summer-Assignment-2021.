{
 "cells": [
  {
   "cell_type": "code",
   "execution_count": 1,
   "metadata": {
    "execution": {
     "iopub.execute_input": "2021-08-15T06:29:05.215830Z",
     "iopub.status.busy": "2021-08-15T06:29:05.215035Z",
     "iopub.status.idle": "2021-08-15T06:29:12.089310Z",
     "shell.execute_reply": "2021-08-15T06:29:12.088059Z",
     "shell.execute_reply.started": "2021-08-15T06:29:05.215692Z"
    }
   },
   "outputs": [],
   "source": [
    "import tensorflow as tf\n",
    "from tensorflow import keras\n",
    "import pandas as pd\n",
    "import numpy as np"
   ]
  },
  {
   "cell_type": "code",
   "execution_count": 2,
   "metadata": {
    "execution": {
     "iopub.execute_input": "2021-08-15T06:29:12.091389Z",
     "iopub.status.busy": "2021-08-15T06:29:12.091038Z",
     "iopub.status.idle": "2021-08-15T06:29:12.526902Z",
     "shell.execute_reply": "2021-08-15T06:29:12.525611Z",
     "shell.execute_reply.started": "2021-08-15T06:29:12.091342Z"
    }
   },
   "outputs": [],
   "source": [
    "#loading train set labels, test set labels and output of the LSTM layer of the probe model\n",
    "df_train = pd.read_csv('../input/sentlen/train_labels.csv')\n",
    "df_test_labels = pd.read_csv('../input/sentlen/test_labels.csv')\n",
    "df_test = pd.read_csv('../input/sentlen/x_test.csv')"
   ]
  },
  {
   "cell_type": "code",
   "execution_count": 3,
   "metadata": {
    "execution": {
     "iopub.execute_input": "2021-08-15T06:29:12.529839Z",
     "iopub.status.busy": "2021-08-15T06:29:12.529347Z",
     "iopub.status.idle": "2021-08-15T06:29:12.564611Z",
     "shell.execute_reply": "2021-08-15T06:29:12.563736Z",
     "shell.execute_reply.started": "2021-08-15T06:29:12.529784Z"
    }
   },
   "outputs": [
    {
     "data": {
      "text/html": [
       "<div>\n",
       "<style scoped>\n",
       "    .dataframe tbody tr th:only-of-type {\n",
       "        vertical-align: middle;\n",
       "    }\n",
       "\n",
       "    .dataframe tbody tr th {\n",
       "        vertical-align: top;\n",
       "    }\n",
       "\n",
       "    .dataframe thead th {\n",
       "        text-align: right;\n",
       "    }\n",
       "</style>\n",
       "<table border=\"1\" class=\"dataframe\">\n",
       "  <thead>\n",
       "    <tr style=\"text-align: right;\">\n",
       "      <th></th>\n",
       "      <th>test_sentences</th>\n",
       "    </tr>\n",
       "  </thead>\n",
       "  <tbody>\n",
       "    <tr>\n",
       "      <th>0</th>\n",
       "      <td>0.017241</td>\n",
       "    </tr>\n",
       "    <tr>\n",
       "      <th>1</th>\n",
       "      <td>0.054898</td>\n",
       "    </tr>\n",
       "    <tr>\n",
       "      <th>2</th>\n",
       "      <td>0.071530</td>\n",
       "    </tr>\n",
       "    <tr>\n",
       "      <th>3</th>\n",
       "      <td>0.000000</td>\n",
       "    </tr>\n",
       "    <tr>\n",
       "      <th>4</th>\n",
       "      <td>0.000000</td>\n",
       "    </tr>\n",
       "    <tr>\n",
       "      <th>...</th>\n",
       "      <td>...</td>\n",
       "    </tr>\n",
       "    <tr>\n",
       "      <th>1499995</th>\n",
       "      <td>0.048950</td>\n",
       "    </tr>\n",
       "    <tr>\n",
       "      <th>1499996</th>\n",
       "      <td>0.000000</td>\n",
       "    </tr>\n",
       "    <tr>\n",
       "      <th>1499997</th>\n",
       "      <td>0.000000</td>\n",
       "    </tr>\n",
       "    <tr>\n",
       "      <th>1499998</th>\n",
       "      <td>0.000000</td>\n",
       "    </tr>\n",
       "    <tr>\n",
       "      <th>1499999</th>\n",
       "      <td>0.000000</td>\n",
       "    </tr>\n",
       "  </tbody>\n",
       "</table>\n",
       "<p>1500000 rows × 1 columns</p>\n",
       "</div>"
      ],
      "text/plain": [
       "         test_sentences\n",
       "0              0.017241\n",
       "1              0.054898\n",
       "2              0.071530\n",
       "3              0.000000\n",
       "4              0.000000\n",
       "...                 ...\n",
       "1499995        0.048950\n",
       "1499996        0.000000\n",
       "1499997        0.000000\n",
       "1499998        0.000000\n",
       "1499999        0.000000\n",
       "\n",
       "[1500000 rows x 1 columns]"
      ]
     },
     "execution_count": 3,
     "metadata": {},
     "output_type": "execute_result"
    }
   ],
   "source": [
    "df_test"
   ]
  },
  {
   "cell_type": "code",
   "execution_count": 4,
   "metadata": {
    "execution": {
     "iopub.execute_input": "2021-08-15T06:29:12.566421Z",
     "iopub.status.busy": "2021-08-15T06:29:12.566003Z",
     "iopub.status.idle": "2021-08-15T06:29:12.572878Z",
     "shell.execute_reply": "2021-08-15T06:29:12.572120Z",
     "shell.execute_reply.started": "2021-08-15T06:29:12.566386Z"
    }
   },
   "outputs": [],
   "source": [
    "task_train_labels = df_train['train_labels'].to_numpy()\n",
    "task_test_labels = df_test_labels['test_labels'].to_numpy()"
   ]
  },
  {
   "cell_type": "code",
   "execution_count": 5,
   "metadata": {
    "execution": {
     "iopub.execute_input": "2021-08-15T06:29:12.574411Z",
     "iopub.status.busy": "2021-08-15T06:29:12.573978Z",
     "iopub.status.idle": "2021-08-15T06:29:12.583922Z",
     "shell.execute_reply": "2021-08-15T06:29:12.582985Z",
     "shell.execute_reply.started": "2021-08-15T06:29:12.574380Z"
    }
   },
   "outputs": [],
   "source": [
    "task_train_labels = task_train_labels.reshape(-1,1)\n",
    "task_test_labels = task_test_labels.reshape(-1,1)"
   ]
  },
  {
   "cell_type": "code",
   "execution_count": 6,
   "metadata": {
    "execution": {
     "iopub.execute_input": "2021-08-15T06:29:12.585702Z",
     "iopub.status.busy": "2021-08-15T06:29:12.585179Z",
     "iopub.status.idle": "2021-08-15T06:29:18.660172Z",
     "shell.execute_reply": "2021-08-15T06:29:18.659069Z",
     "shell.execute_reply.started": "2021-08-15T06:29:12.585627Z"
    }
   },
   "outputs": [],
   "source": [
    "#initialising the model\n",
    "\n",
    "\n",
    "# detect and init the TPU\n",
    "tpu = tf.distribute.cluster_resolver.TPUClusterResolver.connect()\n",
    "\n",
    "# instantiate a distribution strategy\n",
    "tpu_strategy = tf.distribute.experimental.TPUStrategy(tpu)\n",
    "\n",
    "# instantiating the model in the strategy scope creates the model on the TPU\n",
    "with tpu_strategy.scope():\n",
    "        random_input = tf.keras.layers.Input(shape=(300))\n",
    "\n",
    "        r = tf.keras.layers.Dense(300, activation = 'relu')(random_input)\n",
    "        r = tf.keras.layers.Dropout(0.3)(r)\n",
    "        r = tf.keras.layers.Dense(300, activation = 'relu')(r)\n",
    "        r = tf.keras.layers.Dropout(0.3)(r)\n",
    "        outputs = tf.keras.layers.Dense(6, activation = 'softmax')(r)\n",
    "\n",
    "        random_model = tf.keras.Model(inputs = random_input, outputs = outputs)\n",
    "        random_model.compile(optimizer='rmsprop',\n",
    "              loss='sparse_categorical_crossentropy',\n",
    "              metrics=['accuracy'])   "
   ]
  },
  {
   "cell_type": "code",
   "execution_count": 7,
   "metadata": {
    "execution": {
     "iopub.execute_input": "2021-08-15T06:29:18.661901Z",
     "iopub.status.busy": "2021-08-15T06:29:18.661568Z",
     "iopub.status.idle": "2021-08-15T06:29:18.883702Z",
     "shell.execute_reply": "2021-08-15T06:29:18.882587Z",
     "shell.execute_reply.started": "2021-08-15T06:29:18.661869Z"
    }
   },
   "outputs": [],
   "source": [
    "#generating random word representations which will be used to train the model. Performance of the model when it is fed this random array will act as a baseline.\n",
    "x_random = np.random.rand(60000,300)"
   ]
  },
  {
   "cell_type": "code",
   "execution_count": 8,
   "metadata": {
    "execution": {
     "iopub.execute_input": "2021-08-15T06:29:18.887182Z",
     "iopub.status.busy": "2021-08-15T06:29:18.886729Z",
     "iopub.status.idle": "2021-08-15T06:29:43.154268Z",
     "shell.execute_reply": "2021-08-15T06:29:43.152950Z",
     "shell.execute_reply.started": "2021-08-15T06:29:18.887133Z"
    }
   },
   "outputs": [
    {
     "name": "stdout",
     "output_type": "stream",
     "text": [
      "Epoch 1/25\n",
      "59/59 [==============================] - 4s 20ms/step - loss: 1.8625 - accuracy: 0.1676\n",
      "Epoch 2/25\n",
      "59/59 [==============================] - 1s 13ms/step - loss: 1.7942 - accuracy: 0.1694\n",
      "Epoch 3/25\n",
      "59/59 [==============================] - 1s 13ms/step - loss: 1.7927 - accuracy: 0.1748\n",
      "Epoch 4/25\n",
      "59/59 [==============================] - 1s 13ms/step - loss: 1.7926 - accuracy: 0.1697\n",
      "Epoch 5/25\n",
      "59/59 [==============================] - 1s 13ms/step - loss: 1.7923 - accuracy: 0.1721\n",
      "Epoch 6/25\n",
      "59/59 [==============================] - 1s 14ms/step - loss: 1.7915 - accuracy: 0.1766\n",
      "Epoch 7/25\n",
      "59/59 [==============================] - 1s 13ms/step - loss: 1.7921 - accuracy: 0.1757\n",
      "Epoch 8/25\n",
      "59/59 [==============================] - 1s 13ms/step - loss: 1.7910 - accuracy: 0.1796\n",
      "Epoch 9/25\n",
      "59/59 [==============================] - 1s 13ms/step - loss: 1.7901 - accuracy: 0.1763\n",
      "Epoch 10/25\n",
      "59/59 [==============================] - 1s 13ms/step - loss: 1.7897 - accuracy: 0.1796\n",
      "Epoch 11/25\n",
      "59/59 [==============================] - 1s 13ms/step - loss: 1.7887 - accuracy: 0.1870\n",
      "Epoch 12/25\n",
      "59/59 [==============================] - 1s 13ms/step - loss: 1.7882 - accuracy: 0.1863\n",
      "Epoch 13/25\n",
      "59/59 [==============================] - 1s 13ms/step - loss: 1.7864 - accuracy: 0.1903\n",
      "Epoch 14/25\n",
      "59/59 [==============================] - 1s 13ms/step - loss: 1.7859 - accuracy: 0.1921\n",
      "Epoch 15/25\n",
      "59/59 [==============================] - 1s 13ms/step - loss: 1.7839 - accuracy: 0.1959\n",
      "Epoch 16/25\n",
      "59/59 [==============================] - 1s 13ms/step - loss: 1.7821 - accuracy: 0.1985\n",
      "Epoch 17/25\n",
      "59/59 [==============================] - 1s 13ms/step - loss: 1.7810 - accuracy: 0.2033\n",
      "Epoch 18/25\n",
      "59/59 [==============================] - 1s 13ms/step - loss: 1.7787 - accuracy: 0.2047\n",
      "Epoch 19/25\n",
      "59/59 [==============================] - 1s 13ms/step - loss: 1.7755 - accuracy: 0.2114\n",
      "Epoch 20/25\n",
      "59/59 [==============================] - 1s 13ms/step - loss: 1.7735 - accuracy: 0.2122\n",
      "Epoch 21/25\n",
      "59/59 [==============================] - 1s 13ms/step - loss: 1.7704 - accuracy: 0.2174\n",
      "Epoch 22/25\n",
      "59/59 [==============================] - 1s 13ms/step - loss: 1.7695 - accuracy: 0.2156\n",
      "Epoch 23/25\n",
      "59/59 [==============================] - 1s 13ms/step - loss: 1.7647 - accuracy: 0.2200\n",
      "Epoch 24/25\n",
      "59/59 [==============================] - 1s 13ms/step - loss: 1.7631 - accuracy: 0.2248\n",
      "Epoch 25/25\n",
      "59/59 [==============================] - 1s 14ms/step - loss: 1.7612 - accuracy: 0.2261\n"
     ]
    },
    {
     "data": {
      "text/plain": [
       "<tensorflow.python.keras.callbacks.History at 0x7f48df1bde10>"
      ]
     },
     "execution_count": 8,
     "metadata": {},
     "output_type": "execute_result"
    }
   ],
   "source": [
    "random_model.fit(x_random,task_train_labels, epochs = 25, batch_size = 1024)"
   ]
  },
  {
   "cell_type": "code",
   "execution_count": 9,
   "metadata": {
    "execution": {
     "iopub.execute_input": "2021-08-15T06:29:43.156761Z",
     "iopub.status.busy": "2021-08-15T06:29:43.156284Z",
     "iopub.status.idle": "2021-08-15T06:29:43.163382Z",
     "shell.execute_reply": "2021-08-15T06:29:43.161997Z",
     "shell.execute_reply.started": "2021-08-15T06:29:43.156711Z"
    }
   },
   "outputs": [
    {
     "data": {
      "text/plain": [
       "((60000, 300), (60000, 1))"
      ]
     },
     "execution_count": 9,
     "metadata": {},
     "output_type": "execute_result"
    }
   ],
   "source": [
    "x_random.shape,task_train_labels.shape"
   ]
  },
  {
   "cell_type": "code",
   "execution_count": 10,
   "metadata": {
    "execution": {
     "iopub.execute_input": "2021-08-15T06:29:43.165492Z",
     "iopub.status.busy": "2021-08-15T06:29:43.165172Z",
     "iopub.status.idle": "2021-08-15T06:29:43.180457Z",
     "shell.execute_reply": "2021-08-15T06:29:43.179608Z",
     "shell.execute_reply.started": "2021-08-15T06:29:43.165461Z"
    }
   },
   "outputs": [
    {
     "data": {
      "text/plain": [
       "(1500000,)"
      ]
     },
     "execution_count": 10,
     "metadata": {},
     "output_type": "execute_result"
    }
   ],
   "source": [
    "x_test = df_test['test_sentences'].to_numpy()\n",
    "x_test.shape"
   ]
  },
  {
   "cell_type": "code",
   "execution_count": 11,
   "metadata": {
    "execution": {
     "iopub.execute_input": "2021-08-15T06:29:43.182005Z",
     "iopub.status.busy": "2021-08-15T06:29:43.181703Z",
     "iopub.status.idle": "2021-08-15T06:29:43.193360Z",
     "shell.execute_reply": "2021-08-15T06:29:43.192267Z",
     "shell.execute_reply.started": "2021-08-15T06:29:43.181974Z"
    }
   },
   "outputs": [
    {
     "data": {
      "text/plain": [
       "(5000, 300)"
      ]
     },
     "execution_count": 11,
     "metadata": {},
     "output_type": "execute_result"
    }
   ],
   "source": [
    "x_test = x_test.reshape(5000,300)\n",
    "x_test.shape"
   ]
  },
  {
   "cell_type": "code",
   "execution_count": 12,
   "metadata": {
    "execution": {
     "iopub.execute_input": "2021-08-15T06:29:43.194942Z",
     "iopub.status.busy": "2021-08-15T06:29:43.194624Z",
     "iopub.status.idle": "2021-08-15T06:29:47.069469Z",
     "shell.execute_reply": "2021-08-15T06:29:47.068382Z",
     "shell.execute_reply.started": "2021-08-15T06:29:43.194912Z"
    }
   },
   "outputs": [
    {
     "name": "stdout",
     "output_type": "stream",
     "text": [
      "157/157 [==============================] - 4s 15ms/step - loss: 1.7950 - accuracy: 0.1578\n"
     ]
    },
    {
     "data": {
      "text/plain": [
       "[1.7949886322021484, 0.15779998898506165]"
      ]
     },
     "execution_count": 12,
     "metadata": {},
     "output_type": "execute_result"
    }
   ],
   "source": [
    "#evaluating this model, x_test is the actual output of the LSTM layer of the probe model which was saved at the last in the probe_model notebook\n",
    "random_model.evaluate(x_test,task_test_labels)"
   ]
  },
  {
   "cell_type": "code",
   "execution_count": null,
   "metadata": {},
   "outputs": [],
   "source": []
  },
  {
   "cell_type": "code",
   "execution_count": null,
   "metadata": {},
   "outputs": [],
   "source": []
  }
 ],
 "metadata": {
  "kernelspec": {
   "display_name": "Python 3",
   "language": "python",
   "name": "python3"
  },
  "language_info": {
   "codemirror_mode": {
    "name": "ipython",
    "version": 3
   },
   "file_extension": ".py",
   "mimetype": "text/x-python",
   "name": "python",
   "nbconvert_exporter": "python",
   "pygments_lexer": "ipython3",
   "version": "3.8.5"
  }
 },
 "nbformat": 4,
 "nbformat_minor": 4
}
